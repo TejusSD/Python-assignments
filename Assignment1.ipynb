{
 "cells": [
  {
   "cell_type": "markdown",
   "id": "52b36de9",
   "metadata": {},
   "source": [
    "# 1. In the below elements which of them are values or an expression? eg:- values can be integer or string and expressions will be mathematical operators.\n",
    "* \n",
    "'hello'\n",
    "-87.8\n",
    "- \n",
    "/ \n",
    "+\n",
    "6 \n",
    "Ans-values: 6,-87.8,’hello’  \texpression:  + ,- , / , *\n",
    "        \n",
    "# 2. What is the difference between string and variable?\n",
    "Variable is used to store/assign values. String contains characters which denoted by single quote/double quote.\n",
    "\n",
    "# 3. Describe three different data types.\n",
    "Numerical data type: int-80,60,30 ,float-90.25,30.5 ,complex- 10+5j\n",
    "Sequential data type: list-[25,’teju’,256.5] ,tuple-(25.3,562,’Bengaluru’),\n",
    "string-‘karnataka KA14’.\n",
    "Bool- True,False\n",
    "Dict : {‘Name’ :’tejus’ , ‘Address’:’ Bengaluru karntaka’,’Email id’: ‘tejas.sd5@gmail.com’} –stores data as key value pair.\n",
    "\n",
    "# 4. What is an expression made up of? What do all expressions do?\n",
    "Ans: Expressions made up of operators and operands which are interpreted to produce desired result.\n",
    "    \n",
    "# 5. This assignment statements, like spam = 10. What is the difference between an expression and a statement?\n",
    "Ans: statement used to create variable or display value. Expression produces value/result after being interpreted.\n",
    "\n",
    "\n",
    "# 6. After running the following code, what does the variable bacon contain?\n",
    "bacon = 22\n",
    "bacon + 1\n",
    "Ans-22\n",
    "\n",
    "# 7. What should the values of the following two terms be?\n",
    "'spam' + 'spamspam'\n",
    "'spam' * 3\n",
    "Ans-‘spamspamspam’\n",
    "\n",
    "# 8. Why is eggs a valid variable name while 100 is invalid?\n",
    "Ans-variable should fulfil the following rules-\n",
    "\t-variable should start with letter or underscore\n",
    "\t-Reserved keywords not used as variable\n",
    "\t-Variable allows only alphanumeric value and underscore.\n",
    "\n",
    "# 9. What three functions can be used to get the integer, floating-point number, or string version of a value?\n",
    "Ans: int(),float(),str().\n",
    "    \n",
    "# 10. Why does this expression cause an error? How can you fix it?\n",
    "'I have eaten ' + 99 + ' burritos.'\n",
    "It is TypeError ,can only concatenate str (not \"int\") to str.\n",
    "Solution: 'I have eaten ' + ‘99 ‘+ ' burritos.'\n",
    "\n",
    "\n",
    "\n"
   ]
  },
  {
   "cell_type": "code",
   "execution_count": null,
   "id": "05a37470",
   "metadata": {},
   "outputs": [],
   "source": []
  }
 ],
 "metadata": {
  "kernelspec": {
   "display_name": "Python 3 (ipykernel)",
   "language": "python",
   "name": "python3"
  },
  "language_info": {
   "codemirror_mode": {
    "name": "ipython",
    "version": 3
   },
   "file_extension": ".py",
   "mimetype": "text/x-python",
   "name": "python",
   "nbconvert_exporter": "python",
   "pygments_lexer": "ipython3",
   "version": "3.9.12"
  }
 },
 "nbformat": 4,
 "nbformat_minor": 5
}

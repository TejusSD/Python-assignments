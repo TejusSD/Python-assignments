{
 "cells": [
  {
   "cell_type": "markdown",
   "id": "9c738d0d",
   "metadata": {},
   "source": [
    "# Question1\n",
    "Create a function that takes three integer arguments (a, b, c) and returns the amount of\n",
    "integers which are of equal value.\n",
    "Examples\n",
    "equal(3, 4, 3) ➞ 2\n",
    "equal(1, 1, 1) ➞ 3\n",
    "equal(3, 4, 1) ➞ 0\n",
    "Notes\n",
    "Your function must return 0, 2 or 3."
   ]
  },
  {
   "cell_type": "code",
   "execution_count": 265,
   "id": "91deffa5",
   "metadata": {},
   "outputs": [],
   "source": [
    "def equal(a,b,c):\n",
    "    if type(a)==int and type(b)==int and type(c)==int:\n",
    "        l=[a,b,c]\n",
    "        eq=[]\n",
    "        for i in l:\n",
    "            if l.count(i)>1:\n",
    "                eq.append(i)\n",
    "        return len(eq)\n",
    "    else:\n",
    "        print(\"Enter integer values only\")"
   ]
  },
  {
   "cell_type": "code",
   "execution_count": 266,
   "id": "a5c30755",
   "metadata": {},
   "outputs": [
    {
     "data": {
      "text/plain": [
       "2"
      ]
     },
     "execution_count": 266,
     "metadata": {},
     "output_type": "execute_result"
    }
   ],
   "source": [
    "equal(4, 4,2)"
   ]
  },
  {
   "cell_type": "code",
   "execution_count": 267,
   "id": "55c60362",
   "metadata": {},
   "outputs": [
    {
     "data": {
      "text/plain": [
       "3"
      ]
     },
     "execution_count": 267,
     "metadata": {},
     "output_type": "execute_result"
    }
   ],
   "source": [
    "equal(4, 4,4)"
   ]
  },
  {
   "cell_type": "code",
   "execution_count": 277,
   "id": "29416438",
   "metadata": {},
   "outputs": [
    {
     "data": {
      "text/plain": [
       "0"
      ]
     },
     "execution_count": 277,
     "metadata": {},
     "output_type": "execute_result"
    }
   ],
   "source": [
    "equal(4,1,5)"
   ]
  },
  {
   "cell_type": "markdown",
   "id": "6bf79ef0",
   "metadata": {},
   "source": [
    "# Question2\n",
    "Write a function that converts a dictionary into a list of keys-values tuples.\n",
    "Examples\n",
    "dict_to_list({\n",
    "&quot;D&quot;: 1,\n",
    "&quot;B&quot;: 2,\n",
    "&quot;C&quot;: 3\n",
    "}) ➞ [(&quot;B&quot;, 2), (&quot;C&quot;, 3), (&quot;D&quot;, 1)]\n",
    "dict_to_list({\n",
    "&quot;likes&quot;: 2,\n",
    "&quot;dislikes&quot;: 3,\n",
    "&quot;followers&quot;: 10\n",
    "}) ➞ [(&quot;dislikes&quot;, 3), (&quot;followers&quot;, 10), (&quot;likes&quot;, 2)]\n",
    "Notes\n",
    "Return the elements in the list in alphabetical order."
   ]
  },
  {
   "cell_type": "code",
   "execution_count": 269,
   "id": "384ac507",
   "metadata": {},
   "outputs": [],
   "source": [
    "def dict_list(d):\n",
    "    \"Enter dictionary data type as arg\"\n",
    "    if type(d)==dict:\n",
    "        l=list(d.items())\n",
    "        l.sort()\n",
    "        return l\n",
    "    else:\n",
    "        print(\"Invalid dictionary\")"
   ]
  },
  {
   "cell_type": "code",
   "execution_count": 270,
   "id": "476f0541",
   "metadata": {},
   "outputs": [
    {
     "data": {
      "text/plain": [
       "[('B', 2), ('C', 3), ('D', 1)]"
      ]
     },
     "execution_count": 270,
     "metadata": {},
     "output_type": "execute_result"
    }
   ],
   "source": [
    "dict_list({ \"D\": 1, \"B\": 2, \"C\": 3 })"
   ]
  },
  {
   "cell_type": "code",
   "execution_count": 271,
   "id": "853255bd",
   "metadata": {},
   "outputs": [
    {
     "data": {
      "text/plain": [
       "[('dislikes', 3), ('followers', 10), ('likes', 2)]"
      ]
     },
     "execution_count": 271,
     "metadata": {},
     "output_type": "execute_result"
    }
   ],
   "source": [
    "dict_list({ \"likes\": 2, \"dislikes\": 3, \"followers\": 10 })"
   ]
  },
  {
   "cell_type": "code",
   "execution_count": 272,
   "id": "31acf3b8",
   "metadata": {},
   "outputs": [
    {
     "name": "stdout",
     "output_type": "stream",
     "text": [
      "Invalid dictionary\n"
     ]
    }
   ],
   "source": [
    "dict_list([\"tejus\",\"manoj\",\"Rajest\"])"
   ]
  },
  {
   "cell_type": "markdown",
   "id": "415a72d3",
   "metadata": {},
   "source": [
    "# Question3\n",
    "Write a function that creates a dictionary with each (key, value) pair being the (lower case, upper case) versions of a letter, respectively.\n",
    "Examples\n",
    "mapping([\"p\" , \"s\"]) ➞ { \"p\": \"P\", \"s\": \"S\" }\n",
    "\n",
    "\n",
    "mapping([\"a\", \"b\", \"c\"]) ➞ { \"a\": \"A\", \"b\": \"B\", \"c\": \"C\" }\n",
    "\n",
    "mapping([\"a\", \"v\", \"y\", \"z\"]) ➞ { \"a\": \"A\", \"v\": \"V\", \"y\": \"Y\", \"z\": \"Z\" }\n"
   ]
  },
  {
   "cell_type": "code",
   "execution_count": 18,
   "id": "4ecf86ff",
   "metadata": {},
   "outputs": [],
   "source": [
    "def mapping(*arg):\n",
    "    d={}\n",
    "    for i in arg:\n",
    "        for j in i:\n",
    "            if type(j)==str:\n",
    "                d[j.lower()]=j.upper()\n",
    "            else:\n",
    "                  print(\"Enter strings as argument for value {d}\".format(d=i))\n",
    "    return d\n",
    "     "
   ]
  },
  {
   "cell_type": "code",
   "execution_count": 19,
   "id": "50b1783e",
   "metadata": {},
   "outputs": [
    {
     "data": {
      "text/plain": [
       "{'k': 'K', 'j': 'J', 'u': 'U'}"
      ]
     },
     "execution_count": 19,
     "metadata": {},
     "output_type": "execute_result"
    }
   ],
   "source": [
    "mapping(['k','J','U'])"
   ]
  },
  {
   "cell_type": "markdown",
   "id": "48559c22",
   "metadata": {},
   "source": [
    "# Question4\n",
    "Write a function, that replaces all vowels in a string with a specified vowel.\n",
    "Examples\n",
    "vow_replace(\"apples and bananas\", \"u\") ➞ \"upplus und bununus\"\n",
    "\n",
    "vow_replace(\"cheese casserole\", \"o\") ➞ \"chooso cossorolo\"\n",
    "\n",
    "vow_replace(\"stuffed jalapeno poppers\", \"e\") ➞ \"steffed jelepene peppers\"\n"
   ]
  },
  {
   "cell_type": "code",
   "execution_count": 13,
   "id": "418da573",
   "metadata": {},
   "outputs": [],
   "source": [
    "def vow_replace(s,vow_s):\n",
    "    vow=\"AEIOUaeiou\"\n",
    "    result=\"\"\n",
    "    for i in s:\n",
    "        if i in vow:\n",
    "            result+=vow_s\n",
    "        else:\n",
    "            result+=i\n",
    "    return result"
   ]
  },
  {
   "cell_type": "code",
   "execution_count": 15,
   "id": "16a85ed8",
   "metadata": {},
   "outputs": [
    {
     "data": {
      "text/plain": [
       "'chAAsA cAssArAlA'"
      ]
     },
     "execution_count": 15,
     "metadata": {},
     "output_type": "execute_result"
    }
   ],
   "source": [
    "vow_replace(\"cheese casserole\", \"A\")"
   ]
  },
  {
   "cell_type": "code",
   "execution_count": 17,
   "id": "64901aa6",
   "metadata": {},
   "outputs": [
    {
     "data": {
      "text/plain": [
       "'stiffid jilipini pippirs'"
      ]
     },
     "execution_count": 17,
     "metadata": {},
     "output_type": "execute_result"
    }
   ],
   "source": [
    "vow_replace(\"stuffed jalapeno poppers\", \"i\")"
   ]
  },
  {
   "cell_type": "markdown",
   "id": "b008a67f",
   "metadata": {},
   "source": [
    "# Question5\n",
    "Create a function that takes a string as input and capitalizes a letter if its ASCII code is even and returns its lower case version if its ASCII code is odd.\n",
    "Examples\n",
    "ascii_capitalize(\"to be or not to be!\") ➞ \"To Be oR NoT To Be!\"\n",
    "\n",
    "ascii_capitalize(\"THE LITTLE MERMAID\") ➞ \"THe LiTTLe meRmaiD\"\n",
    "\n",
    "ascii_capitalize(\"Oh what a beautiful morning.\") ➞ \"oH wHaT a BeauTiFuL moRNiNg.\"\n"
   ]
  },
  {
   "cell_type": "code",
   "execution_count": 23,
   "id": "becc6fda",
   "metadata": {},
   "outputs": [],
   "source": [
    "def ascii_capitalize(s):\n",
    "    result=\"\"\n",
    "    if type(s)==str:\n",
    "        for i in s:\n",
    "            ascii_code=ord(i)\n",
    "            if ascii_code%2==0:\n",
    "                result+=i.upper()\n",
    "            else:\n",
    "                result+=i.lower()\n",
    "        return result\n",
    "    else:\n",
    "        print(\"Enter only string\")\n",
    "        \n",
    "                \n",
    "                \n",
    "    "
   ]
  },
  {
   "cell_type": "code",
   "execution_count": 24,
   "id": "d8b6cf9f",
   "metadata": {},
   "outputs": [
    {
     "data": {
      "text/plain": [
       "'TeJus'"
      ]
     },
     "execution_count": 24,
     "metadata": {},
     "output_type": "execute_result"
    }
   ],
   "source": [
    "ascii_capitalize(\"tejus\")"
   ]
  },
  {
   "cell_type": "code",
   "execution_count": 32,
   "id": "4791cc30",
   "metadata": {},
   "outputs": [
    {
     "data": {
      "text/plain": [
       "'To Be oR NoT To Be!'"
      ]
     },
     "execution_count": 32,
     "metadata": {},
     "output_type": "execute_result"
    }
   ],
   "source": [
    "ascii_capitalize(\"to be or not to be!\")"
   ]
  },
  {
   "cell_type": "code",
   "execution_count": 33,
   "id": "2714fdae",
   "metadata": {},
   "outputs": [
    {
     "data": {
      "text/plain": [
       "'THe LiTTLe meRmaiD'"
      ]
     },
     "execution_count": 33,
     "metadata": {},
     "output_type": "execute_result"
    }
   ],
   "source": [
    "ascii_capitalize(\"THE LITTLE MERMAID\")"
   ]
  },
  {
   "cell_type": "code",
   "execution_count": 34,
   "id": "25a4f477",
   "metadata": {},
   "outputs": [
    {
     "data": {
      "text/plain": [
       "'oH wHaT a BeauTiFuL moRNiNg.'"
      ]
     },
     "execution_count": 34,
     "metadata": {},
     "output_type": "execute_result"
    }
   ],
   "source": [
    "ascii_capitalize(\"Oh what a beautiful morning.\")"
   ]
  },
  {
   "cell_type": "code",
   "execution_count": null,
   "id": "af0be2d4",
   "metadata": {},
   "outputs": [],
   "source": []
  }
 ],
 "metadata": {
  "kernelspec": {
   "display_name": "Python 3 (ipykernel)",
   "language": "python",
   "name": "python3"
  },
  "language_info": {
   "codemirror_mode": {
    "name": "ipython",
    "version": 3
   },
   "file_extension": ".py",
   "mimetype": "text/x-python",
   "name": "python",
   "nbconvert_exporter": "python",
   "pygments_lexer": "ipython3",
   "version": "3.11.4"
  }
 },
 "nbformat": 4,
 "nbformat_minor": 5
}

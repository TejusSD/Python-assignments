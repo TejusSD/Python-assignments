{
 "cells": [
  {
   "cell_type": "code",
   "execution_count": null,
   "id": "b403bbc3",
   "metadata": {},
   "outputs": [],
   "source": [
    "#1. What exactly is []?\n",
    "#Ans: it is used to store list of values."
   ]
  },
  {
   "cell_type": "code",
   "execution_count": 24,
   "id": "21f1be4c",
   "metadata": {},
   "outputs": [],
   "source": [
    "#2. In a list of values stored in a variable called spam, how would you assign the value 'hello' as the third value? (Assume [2, 4, 6, 8, 10] are in spam.)\n",
    "\n",
    "spam=[2, 4, 6, 8, 10]\n",
    "\n",
    "spam[2]=\"hello\""
   ]
  },
  {
   "cell_type": "code",
   "execution_count": 25,
   "id": "7c2d9bbb",
   "metadata": {},
   "outputs": [],
   "source": [
    "spam= ['a', 'b', 'c', 'd']"
   ]
  },
  {
   "cell_type": "code",
   "execution_count": 26,
   "id": "65dec0c5",
   "metadata": {},
   "outputs": [],
   "source": [
    "#3. What is the value of spam[int(int('3' * 2) / 11)]?"
   ]
  },
  {
   "cell_type": "code",
   "execution_count": 27,
   "id": "714ee740",
   "metadata": {},
   "outputs": [
    {
     "data": {
      "text/plain": [
       "'d'"
      ]
     },
     "execution_count": 27,
     "metadata": {},
     "output_type": "execute_result"
    }
   ],
   "source": [
    "spam[int(int('3' * 2) / 11)]"
   ]
  },
  {
   "cell_type": "code",
   "execution_count": 28,
   "id": "c3264593",
   "metadata": {},
   "outputs": [
    {
     "data": {
      "text/plain": [
       "'d'"
      ]
     },
     "execution_count": 28,
     "metadata": {},
     "output_type": "execute_result"
    }
   ],
   "source": [
    "#4. What is the value of spam[-1]?\n",
    "spam[-1]"
   ]
  },
  {
   "cell_type": "code",
   "execution_count": 29,
   "id": "873fac96",
   "metadata": {},
   "outputs": [
    {
     "data": {
      "text/plain": [
       "['a', 'b']"
      ]
     },
     "execution_count": 29,
     "metadata": {},
     "output_type": "execute_result"
    }
   ],
   "source": [
    "#5. What is the value of spam[:2]?\n",
    "spam[:2]\n"
   ]
  },
  {
   "cell_type": "code",
   "execution_count": 30,
   "id": "10018665",
   "metadata": {},
   "outputs": [],
   "source": [
    "bacon=[3.14, 'cat',11, 'cat', True]"
   ]
  },
  {
   "cell_type": "code",
   "execution_count": 31,
   "id": "f359b9b2",
   "metadata": {},
   "outputs": [
    {
     "data": {
      "text/plain": [
       "1"
      ]
     },
     "execution_count": 31,
     "metadata": {},
     "output_type": "execute_result"
    }
   ],
   "source": [
    "#6. What is the value of bacon.index('cat')?\n",
    "bacon.index('cat')\n"
   ]
  },
  {
   "cell_type": "code",
   "execution_count": null,
   "id": "c5d581a3",
   "metadata": {},
   "outputs": [],
   "source": [
    "#7. How does bacon.append(99) change the look of the list value in bacon?\n",
    "#bacon.append(99)\n",
    "#Ans :add 99 at the end of value in the list"
   ]
  },
  {
   "cell_type": "code",
   "execution_count": 32,
   "id": "9ebb5504",
   "metadata": {},
   "outputs": [
    {
     "data": {
      "text/plain": [
       "[3.14, 'cat', 11, 'cat', True]"
      ]
     },
     "execution_count": 32,
     "metadata": {},
     "output_type": "execute_result"
    }
   ],
   "source": [
    "bacon"
   ]
  },
  {
   "cell_type": "code",
   "execution_count": null,
   "id": "37f75d89",
   "metadata": {},
   "outputs": [],
   "source": [
    "#8. How does bacon.remove('cat') change the look of the list in bacon?\n",
    "#bacon.remove('cat')\n",
    "#Ans :will remove first occurance of string 'cat' from the list"
   ]
  },
  {
   "cell_type": "code",
   "execution_count": 33,
   "id": "2dc31578",
   "metadata": {},
   "outputs": [
    {
     "name": "stdout",
     "output_type": "stream",
     "text": [
      "[1, 2, 3, 4, 5, 6]\n",
      "[1, 2, 3, 1, 2, 3, 1, 2, 3]\n"
     ]
    }
   ],
   "source": [
    "#9. What are the list concatenation and list replication operators?\n",
    " \n",
    "#Ans: The list concatenation operator is the plus sign (+), and it is used to combine two lists into a single list.\n",
    "#Ex:\n",
    "list1 = [1, 2, 3]\n",
    "list2 = [4, 5, 6]\n",
    "concatenated_list = list1 + list2\n",
    "print(concatenated_list)\n",
    "\n",
    "#The list replication operator is the asterisk (*) symbol, and it is used\n",
    "#to create a new list by repeating the elements of an existing list a certain number of times.\n",
    "\n",
    "#Ex:\n",
    "list1 = [1, 2, 3]\n",
    "replicated_list = list1 * 3\n",
    "print(replicated_list)\n"
   ]
  },
  {
   "cell_type": "code",
   "execution_count": 34,
   "id": "3efbe979",
   "metadata": {},
   "outputs": [
    {
     "name": "stdout",
     "output_type": "stream",
     "text": [
      "[1, 2, 3, 4]\n",
      "[1, 5, 2, 3]\n"
     ]
    }
   ],
   "source": [
    "#10. What is difference between the list methods append() and insert()?\n",
    "\n",
    "#Ans:The append() method is used to add an element to the end of a list. \n",
    "#It takes a single argument, which is the element to be added\n",
    "\n",
    "my_list = [1, 2, 3]\n",
    "my_list.append(4)\n",
    "print(my_list)\n",
    "\n",
    "#the insert() method is used to add an element at a specific index within the list. \n",
    "#It takes two arguments: the index where the element should be inserted and the element itself.\n",
    "my_list = [1, 2, 3]\n",
    "my_list.insert(1, 5)\n",
    "print(my_list)"
   ]
  },
  {
   "cell_type": "code",
   "execution_count": 35,
   "id": "81dd63a8",
   "metadata": {},
   "outputs": [
    {
     "name": "stdout",
     "output_type": "stream",
     "text": [
      "[1, 2, 4, 5]\n"
     ]
    }
   ],
   "source": [
    "#11. What are the two methods for removing items from a list?\n",
    "\n",
    "#    remove() method is used to remove the first occurrence of a specified item in a list.\n",
    "my_list = [1, 2, 3, 4, 5]\n",
    "my_list.remove(3) \n",
    "print(my_list)  "
   ]
  },
  {
   "cell_type": "code",
   "execution_count": 36,
   "id": "81083d1d",
   "metadata": {},
   "outputs": [
    {
     "name": "stdout",
     "output_type": "stream",
     "text": [
      "3\n",
      "[1, 2, 4, 5]\n"
     ]
    }
   ],
   "source": [
    "#pop() method removes an item at a specified index from the list and returns the removed item. \n",
    "#If you don't provide an index, it will remove and return the last item in the list\n",
    "\n",
    "my_list = [1, 2, 3, 4, 5]\n",
    "removed_item = my_list.pop(2)  # Removes the item at index 2 (value 3) and returns it\n",
    "print(removed_item)  # Output: 3\n",
    "print(my_list)  # Output: [1, 2, 4, 5]"
   ]
  },
  {
   "cell_type": "code",
   "execution_count": null,
   "id": "53ad1638",
   "metadata": {},
   "outputs": [],
   "source": [
    "#12. Describe how list values and string values are identical.\n",
    "\n",
    "#    1. Both lists and strings support slicing,\n",
    "#    2. you can iterate over the elements of both lists and strings using loops like"
   ]
  },
  {
   "cell_type": "code",
   "execution_count": null,
   "id": "c2dfc227",
   "metadata": {},
   "outputs": [],
   "source": [
    "#13. What's the difference between tuples and lists?\n",
    "\n",
    "#Lists are mutable, meaning you can modify, add, or remove existing elements after the list is created.represented by []\n",
    "\n",
    "#Tuples, on the other hand, are immutable, meaning they cannot be changed existing elemets once they are created.represented by ()\n",
    "\n"
   ]
  },
  {
   "cell_type": "code",
   "execution_count": 37,
   "id": "ca4b2b5f",
   "metadata": {},
   "outputs": [],
   "source": [
    "t=(5,5,6)"
   ]
  },
  {
   "cell_type": "code",
   "execution_count": 38,
   "id": "176d34ba",
   "metadata": {},
   "outputs": [
    {
     "name": "stdout",
     "output_type": "stream",
     "text": [
      "(5, 5, 6)\n"
     ]
    }
   ],
   "source": [
    "print(t)"
   ]
  },
  {
   "cell_type": "code",
   "execution_count": 39,
   "id": "0bf1427a",
   "metadata": {},
   "outputs": [],
   "source": [
    "#14. How do you type a tuple value that only contains the integer 42?\n",
    "t=(52,)"
   ]
  },
  {
   "cell_type": "code",
   "execution_count": 40,
   "id": "4a2c592d",
   "metadata": {},
   "outputs": [],
   "source": [
    "#15. How do you get a list value's tuple form? How do you get a tuple value's list form?\n",
    "t=tuple([1,5,23])\n",
    "l=list((1,8,6))"
   ]
  },
  {
   "cell_type": "code",
   "execution_count": 46,
   "id": "9ae76167",
   "metadata": {},
   "outputs": [
    {
     "name": "stdout",
     "output_type": "stream",
     "text": [
      "[1, 2, 3, 4]\n"
     ]
    }
   ],
   "source": [
    "#16. Variables that \"contain\" list values are not necessarily lists themselves. Instead, what do they contain?\n",
    "#Ans:\n",
    "#When you assign a list to a variable, the variable references the memory location where the list object is stored. \n",
    "#This means that the variable holds a reference to the list rather than the actual list data.\n",
    "\n",
    "my_list = [1, 2, 3]\n",
    "another_list = my_list\n",
    "\n",
    "# Modifying the list through one variable affects both variables\n",
    "my_list.append(4)\n",
    "print(another_list)  # Output: [1, 2, 3, 4]\n"
   ]
  },
  {
   "cell_type": "code",
   "execution_count": 45,
   "id": "d632e2fa",
   "metadata": {},
   "outputs": [],
   "source": [
    "#17. How do you distinguish between copy.copy() and copy.deepcopy()?\n",
    "#Ans\n",
    "# copy.copy(): This function creates a shallow copy of an object.\n",
    "#            A shallow copy creates a new object but references the same elements as the original object.\n",
    "        \n",
    "# copy.deepcopy(): This function creates a deep copy of an object. \n",
    "#    A deep copy creates a completely independent copy of the object and all its nested objects or references. */"
   ]
  },
  {
   "cell_type": "code",
   "execution_count": 41,
   "id": "53acf229",
   "metadata": {},
   "outputs": [
    {
     "name": "stdout",
     "output_type": "stream",
     "text": [
      "[10, [2, 3, 4]]\n",
      "[1, [2, 3, 4]]\n"
     ]
    }
   ],
   "source": [
    "import copy\n",
    "\n",
    "original_list = [1, [2, 3]]\n",
    "shallow_copy = copy.copy(original_list)\n",
    "\n",
    "original_list[0] = 10\n",
    "original_list[1].append(4)\n",
    "\n",
    "print(original_list)\n",
    "print(shallow_copy)\n"
   ]
  },
  {
   "cell_type": "code",
   "execution_count": 42,
   "id": "404b0fb9",
   "metadata": {},
   "outputs": [
    {
     "name": "stdout",
     "output_type": "stream",
     "text": [
      "[10, [2, 3, 4]]\n",
      "[1, [2, 3]]\n"
     ]
    }
   ],
   "source": [
    "import copy\n",
    "\n",
    "original_list = [1, [2, 3]]\n",
    "deep_copy = copy.deepcopy(original_list)\n",
    "\n",
    "original_list[0] = 10\n",
    "original_list[1].append(4)\n",
    "\n",
    "print(original_list)\n",
    "print(deep_copy)  \n"
   ]
  },
  {
   "cell_type": "code",
   "execution_count": null,
   "id": "16a1cdc1",
   "metadata": {},
   "outputs": [],
   "source": []
  }
 ],
 "metadata": {
  "kernelspec": {
   "display_name": "Python 3 (ipykernel)",
   "language": "python",
   "name": "python3"
  },
  "language_info": {
   "codemirror_mode": {
    "name": "ipython",
    "version": 3
   },
   "file_extension": ".py",
   "mimetype": "text/x-python",
   "name": "python",
   "nbconvert_exporter": "python",
   "pygments_lexer": "ipython3",
   "version": "3.9.12"
  }
 },
 "nbformat": 4,
 "nbformat_minor": 5
}

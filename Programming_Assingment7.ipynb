{
 "cells": [
  {
   "cell_type": "code",
   "execution_count": 77,
   "id": "3f8b6c35",
   "metadata": {},
   "outputs": [],
   "source": [
    "#1.Write a Python Program to find sum of array?\n",
    "def sum_arry(l):\n",
    "   \n",
    "    sum=0\n",
    "    for i in l:\n",
    "        sum+=i\n",
    "    return sum\n",
    "        "
   ]
  },
  {
   "cell_type": "code",
   "execution_count": 78,
   "id": "263b022f",
   "metadata": {},
   "outputs": [
    {
     "data": {
      "text/plain": [
       "50"
      ]
     },
     "execution_count": 78,
     "metadata": {},
     "output_type": "execute_result"
    }
   ],
   "source": [
    "sum_arry([1,50,-1])"
   ]
  },
  {
   "cell_type": "code",
   "execution_count": 29,
   "id": "dc3248f3",
   "metadata": {},
   "outputs": [],
   "source": [
    "#2. Write a Python Program to find largest element in an array?\n",
    "def large_arry(l):\n",
    " \n",
    "    largest=0\n",
    "    for i in range(len(l)):\n",
    "        if l[i]> largest:\n",
    "            largest=l[i]\n",
    "    print(largest)\n"
   ]
  },
  {
   "cell_type": "code",
   "execution_count": 30,
   "id": "174a1a31",
   "metadata": {},
   "outputs": [
    {
     "name": "stdout",
     "output_type": "stream",
     "text": [
      "200\n"
     ]
    }
   ],
   "source": [
    "large_arry([12,200,89])"
   ]
  },
  {
   "cell_type": "code",
   "execution_count": 61,
   "id": "ac470397",
   "metadata": {},
   "outputs": [],
   "source": [
    "#3. Write a Python Program for array rotation?\n",
    "def rotate_left(arr,d):\n",
    "    ''' Rotate arry to left by d position'''\n",
    "    n=len(arr)\n",
    "    temp=[]\n",
    "    for i in range(d,n):\n",
    "        temp.append(arr[i])\n",
    "    for j in range(d):\n",
    "        temp.append(arr[j])\n",
    "    arr=temp\n",
    "    print(arr)\n",
    "    \n",
    "def rotate_right(arr,d):\n",
    "    ''' Rotate arry to right by d position'''\n",
    "    n=len(arr)\n",
    "    temp=[]\n",
    "    for i in range(n-d,n):\n",
    "        temp.append(arr[i])\n",
    "    for j in range(n-d):\n",
    "        temp.append(arr[j])\n",
    "    arr=temp\n",
    "    print(arr)\n",
    "        \n"
   ]
  },
  {
   "cell_type": "code",
   "execution_count": 63,
   "id": "a4ad4fab",
   "metadata": {},
   "outputs": [
    {
     "name": "stdout",
     "output_type": "stream",
     "text": [
      "[16, 90, 10, 15, 12, 15]\n",
      "[90, 10, 15, 12, 15, 16]\n"
     ]
    }
   ],
   "source": [
    "rotate_left([12,15,16,90,10,15],2)\n",
    "rotate_right([12,15,16,90,10,15],3)"
   ]
  },
  {
   "cell_type": "code",
   "execution_count": 74,
   "id": "1620250a",
   "metadata": {},
   "outputs": [],
   "source": [
    "#4. Write a Python Program to Split the array and add the first part to the end?\n",
    "def split_and_append(arr, split_index):\n",
    "    if split_index<0 or split_index >=len(arr):\n",
    "        print(\"Invalid split index\")\n",
    "        return\n",
    "    arr[:]=arr[split_index:]+arr[:split_index]\n",
    "    print(arr)\n"
   ]
  },
  {
   "cell_type": "code",
   "execution_count": 75,
   "id": "b4b3ed96",
   "metadata": {},
   "outputs": [
    {
     "name": "stdout",
     "output_type": "stream",
     "text": [
      "[30, 50, 10, 20]\n"
     ]
    }
   ],
   "source": [
    " split_and_append([10,20,30,50],2)"
   ]
  },
  {
   "cell_type": "code",
   "execution_count": 82,
   "id": "6601ef64",
   "metadata": {},
   "outputs": [],
   "source": [
    "#5. Write a Python Program to check if given array is Monotonic?\n",
    "def is_monotonic(arr):\n",
    "    increasing= True\n",
    "    decreasing = True\n",
    "    for i in range(1,len(arr)):\n",
    "        if arr[i-1]>arr[i]:\n",
    "            increasing= False\n",
    "        if arr[i-1] < arr[i]:\n",
    "            decreasing= False\n",
    "    return increasing or decreasing "
   ]
  },
  {
   "cell_type": "code",
   "execution_count": 84,
   "id": "8d039e01",
   "metadata": {},
   "outputs": [
    {
     "data": {
      "text/plain": [
       "False"
      ]
     },
     "execution_count": 84,
     "metadata": {},
     "output_type": "execute_result"
    }
   ],
   "source": [
    "is_monotonic([1,2,2,5,4])"
   ]
  }
 ],
 "metadata": {
  "kernelspec": {
   "display_name": "Python 3 (ipykernel)",
   "language": "python",
   "name": "python3"
  },
  "language_info": {
   "codemirror_mode": {
    "name": "ipython",
    "version": 3
   },
   "file_extension": ".py",
   "mimetype": "text/x-python",
   "name": "python",
   "nbconvert_exporter": "python",
   "pygments_lexer": "ipython3",
   "version": "3.11.4"
  }
 },
 "nbformat": 4,
 "nbformat_minor": 5
}

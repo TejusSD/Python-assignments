{
 "cells": [
  {
   "cell_type": "code",
   "execution_count": null,
   "id": "a7013a65",
   "metadata": {},
   "outputs": [],
   "source": [
    "#1. What does an empty dictionary's code look like?\n",
    "d={}"
   ]
  },
  {
   "cell_type": "code",
   "execution_count": 1,
   "id": "371ccd37",
   "metadata": {},
   "outputs": [],
   "source": [
    "#2. What is the value of a dictionary value with the key 'foo' and the value 42?\n",
    "\n",
    "value={'foo':42}\n",
    "#value=42"
   ]
  },
  {
   "cell_type": "code",
   "execution_count": 9,
   "id": "73874894",
   "metadata": {},
   "outputs": [],
   "source": [
    "# 3. What is the most significant distinction between a dictionary and a list?\n",
    "#Ans: dictionary contains key value pair & represented by {}\n",
    "# list contains only values & represented by []"
   ]
  },
  {
   "cell_type": "code",
   "execution_count": 17,
   "id": "e3068f1c",
   "metadata": {},
   "outputs": [],
   "source": [
    "#4. What happens if you try to access spam['foo'] if spam is {'bar': 100}?\n",
    "\n",
    "spam={'bar':100}\n",
    "#Ans: you will get keyError.since 'foo' key value pair does not exist in spam."
   ]
  },
  {
   "cell_type": "code",
   "execution_count": 16,
   "id": "6cc1a0d6",
   "metadata": {},
   "outputs": [
    {
     "ename": "KeyError",
     "evalue": "'foo'",
     "output_type": "error",
     "traceback": [
      "\u001b[1;31m---------------------------------------------------------------------------\u001b[0m",
      "\u001b[1;31mKeyError\u001b[0m                                  Traceback (most recent call last)",
      "Input \u001b[1;32mIn [16]\u001b[0m, in \u001b[0;36m<cell line: 1>\u001b[1;34m()\u001b[0m\n\u001b[1;32m----> 1\u001b[0m \u001b[43mspam\u001b[49m\u001b[43m[\u001b[49m\u001b[38;5;124;43m'\u001b[39;49m\u001b[38;5;124;43mfoo\u001b[39;49m\u001b[38;5;124;43m'\u001b[39;49m\u001b[43m]\u001b[49m\n",
      "\u001b[1;31mKeyError\u001b[0m: 'foo'"
     ]
    }
   ],
   "source": [
    "spam['foo']"
   ]
  },
  {
   "cell_type": "code",
   "execution_count": null,
   "id": "c70bfec4",
   "metadata": {},
   "outputs": [],
   "source": [
    "#5. If a dictionary is stored in spam, what is the difference between the expressions 'cat' in spam and 'cat' in spam.values()\n",
    "\n",
    "# 'cat' in spam: This expression checks if the key 'cat' exists directly in the dictionary spam. \n",
    "# It returns True if the key is present as a direct key in the dictionary, and False otherwise.\n",
    "\n",
    "# 'cat' in spam.keys(): This expression first retrieves all the keys from the dictionary spam using the keys() method and then checks if the key 'cat' is present among those keys. \n",
    "# It returns True if the key is found among the dictionary keys and False otherwise."
   ]
  },
  {
   "cell_type": "code",
   "execution_count": 18,
   "id": "ddf39f1f",
   "metadata": {},
   "outputs": [
    {
     "name": "stdout",
     "output_type": "stream",
     "text": [
      "True\n",
      "False\n"
     ]
    }
   ],
   "source": [
    "spam = {'cat': 1, 'dog': 2}\n",
    "print('cat' in spam)  # Output: True\n",
    "print('bird' in spam)  # Output: False\n"
   ]
  },
  {
   "cell_type": "code",
   "execution_count": 19,
   "id": "8130d497",
   "metadata": {},
   "outputs": [
    {
     "name": "stdout",
     "output_type": "stream",
     "text": [
      "True\n",
      "False\n"
     ]
    }
   ],
   "source": [
    "print('cat' in spam.keys())  # Output: True\n",
    "print('bird' in spam.keys())  # Output: False\n"
   ]
  },
  {
   "cell_type": "code",
   "execution_count": null,
   "id": "09ee14be",
   "metadata": {},
   "outputs": [],
   "source": [
    "# 6. What is a shortcut for the following code?\n",
    "# if 'color' not in spam:\n",
    "# spam['color'] = 'black'"
   ]
  },
  {
   "cell_type": "code",
   "execution_count": 20,
   "id": "fa55fe76",
   "metadata": {},
   "outputs": [
    {
     "data": {
      "text/plain": [
       "'black'"
      ]
     },
     "execution_count": 20,
     "metadata": {},
     "output_type": "execute_result"
    }
   ],
   "source": [
    "#Ans:\n",
    "spam.setdefault('color', 'black')"
   ]
  },
  {
   "cell_type": "code",
   "execution_count": 22,
   "id": "66b26bd0",
   "metadata": {},
   "outputs": [
    {
     "name": "stdout",
     "output_type": "stream",
     "text": [
      "{'age': 31, 'city': 'shivamogga', 'name': 'Tejus'}\n"
     ]
    }
   ],
   "source": [
    "#7. How do you \"pretty print\" dictionary values using which module and function?\n",
    "import pprint\n",
    "\n",
    "my_dict = {'name': 'Tejus', 'age': 31, 'city': 'shivamogga'}\n",
    "\n",
    "pprint.pprint(my_dict)\n"
   ]
  },
  {
   "cell_type": "code",
   "execution_count": null,
   "id": "67bfe5a1",
   "metadata": {},
   "outputs": [],
   "source": []
  }
 ],
 "metadata": {
  "kernelspec": {
   "display_name": "Python 3 (ipykernel)",
   "language": "python",
   "name": "python3"
  },
  "language_info": {
   "codemirror_mode": {
    "name": "ipython",
    "version": 3
   },
   "file_extension": ".py",
   "mimetype": "text/x-python",
   "name": "python",
   "nbconvert_exporter": "python",
   "pygments_lexer": "ipython3",
   "version": "3.9.12"
  }
 },
 "nbformat": 4,
 "nbformat_minor": 5
}
